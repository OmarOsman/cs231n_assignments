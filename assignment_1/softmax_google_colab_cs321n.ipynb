{
  "nbformat": 4,
  "nbformat_minor": 0,
  "metadata": {
    "kernelspec": {
      "name": "python3",
      "display_name": "Python 3"
    },
    "language_info": {
      "codemirror_mode": {
        "name": "ipython",
        "version": 3
      },
      "file_extension": ".py",
      "mimetype": "text/x-python",
      "name": "python",
      "nbconvert_exporter": "python",
      "pygments_lexer": "ipython3",
      "version": "3.5.5"
    },
    "colab": {
      "name": "softmax_google_colab_cs321n.ipynb",
      "version": "0.3.2",
      "provenance": [],
      "collapsed_sections": []
    },
    "accelerator": "GPU"
  },
  "cells": [
    {
      "cell_type": "markdown",
      "metadata": {
        "tags": [
          "pdf-title"
        ],
        "id": "E-IFfxQSWti_",
        "colab_type": "text"
      },
      "source": [
        "# Softmax exercise\n",
        "\n",
        "*Complete and hand in this completed worksheet (including its outputs and any supporting code outside of the worksheet) with your assignment submission. For more details see the [assignments page](http://vision.stanford.edu/teaching/cs231n/assignments.html) on the course website.*\n",
        "\n",
        "This exercise is analogous to the SVM exercise. You will:\n",
        "\n",
        "- implement a fully-vectorized **loss function** for the Softmax classifier\n",
        "- implement the fully-vectorized expression for its **analytic gradient**\n",
        "- **check your implementation** with numerical gradient\n",
        "- use a validation set to **tune the learning rate and regularization** strength\n",
        "- **optimize** the loss function with **SGD**\n",
        "- **visualize** the final learned weights\n"
      ]
    },
    {
      "cell_type": "code",
      "metadata": {
        "id": "gtZWsIeQwAAB",
        "colab_type": "code",
        "outputId": "f225c6af-8e05-423b-d846-3771ce24526b",
        "colab": {
          "base_uri": "https://localhost:8080/",
          "height": 35
        }
      },
      "source": [
        "!ls"
      ],
      "execution_count": 0,
      "outputs": [
        {
          "output_type": "stream",
          "text": [
            "assignment1  sample_data  spring1819_assignment1.zip\n"
          ],
          "name": "stdout"
        }
      ]
    },
    {
      "cell_type": "code",
      "metadata": {
        "id": "kkq2dSJlW29Q",
        "colab_type": "code",
        "outputId": "48301d08-5fa4-4090-93e0-10bcf42b3178",
        "colab": {
          "base_uri": "https://localhost:8080/",
          "height": 35
        }
      },
      "source": [
        "cd assignment1"
      ],
      "execution_count": 0,
      "outputs": [
        {
          "output_type": "stream",
          "text": [
            "/content/assignment1\n"
          ],
          "name": "stdout"
        }
      ]
    },
    {
      "cell_type": "code",
      "metadata": {
        "id": "LleU8dX1CqMT",
        "colab_type": "code",
        "outputId": "1f37657f-b990-4c26-865a-b53034c7d0bb",
        "colab": {
          "base_uri": "https://localhost:8080/",
          "height": 54
        }
      },
      "source": [
        "!ls cs231n\t\t      "
      ],
      "execution_count": 0,
      "outputs": [
        {
          "output_type": "stream",
          "text": [
            "classifiers  data_utils.py  gradient_check.py  __pycache__\n",
            "datasets     features.py    __init__.py        vis_utils.py\n"
          ],
          "name": "stdout"
        }
      ]
    },
    {
      "cell_type": "code",
      "metadata": {
        "tags": [
          "pdf-ignore"
        ],
        "id": "RBxTGwoFWtjB",
        "colab_type": "code",
        "colab": {}
      },
      "source": [
        "import random\n",
        "import numpy as np\n",
        "from cs231n.data_utils import load_CIFAR10\n",
        "import matplotlib.pyplot as plt\n",
        "\n",
        "%matplotlib inline\n",
        "plt.rcParams['figure.figsize'] = (10.0, 8.0) # set default size of plots\n",
        "plt.rcParams['image.interpolation'] = 'nearest'\n",
        "plt.rcParams['image.cmap'] = 'gray'\n",
        "\n",
        "# for auto-reloading extenrnal modules\n",
        "# see http://stackoverflow.com/questions/1907993/autoreload-of-modules-in-ipython\n",
        "%load_ext autoreload\n",
        "%autoreload 2"
      ],
      "execution_count": 0,
      "outputs": []
    },
    {
      "cell_type": "code",
      "metadata": {
        "tags": [
          "pdf-ignore"
        ],
        "id": "WDjBYHKJWtjG",
        "colab_type": "code",
        "outputId": "c875120d-1586-45fb-bf93-d63791de5bf1",
        "colab": {
          "base_uri": "https://localhost:8080/",
          "height": 163
        }
      },
      "source": [
        "def get_CIFAR10_data(num_training=49000, num_validation=1000, num_test=1000, num_dev=500):\n",
        "    \"\"\"\n",
        "    Load the CIFAR-10 dataset from disk and perform preprocessing to prepare\n",
        "    it for the linear classifier. These are the same steps as we used for the\n",
        "    SVM, but condensed to a single function.  \n",
        "    \"\"\"\n",
        "    # Load the raw CIFAR-10 data\n",
        "    cifar10_dir = '/content/assignment1/cs231n/datasets/cifar-10-batches-py'\n",
        "    \n",
        "    # Cleaning up variables to prevent loading data multiple times (which may cause memory issue)\n",
        "    try:\n",
        "       del X_train, y_train\n",
        "       del X_test, y_test\n",
        "       print('Clear previously loaded data.')\n",
        "    except:\n",
        "       pass\n",
        "\n",
        "    X_train, y_train, X_test, y_test = load_CIFAR10(cifar10_dir)\n",
        "    \n",
        "    # subsample the data\n",
        "    mask = list(range(num_training, num_training + num_validation))\n",
        "    X_val = X_train[mask]\n",
        "    y_val = y_train[mask]\n",
        "    mask = list(range(num_training))\n",
        "    X_train = X_train[mask]\n",
        "    y_train = y_train[mask]\n",
        "    mask = list(range(num_test))\n",
        "    X_test = X_test[mask]\n",
        "    y_test = y_test[mask]\n",
        "    mask = np.random.choice(num_training, num_dev, replace=False)\n",
        "    X_dev = X_train[mask]\n",
        "    y_dev = y_train[mask]\n",
        "    \n",
        "    # Preprocessing: reshape the image data into rows\n",
        "    X_train = np.reshape(X_train, (X_train.shape[0], -1))\n",
        "    X_val = np.reshape(X_val, (X_val.shape[0], -1))\n",
        "    X_test = np.reshape(X_test, (X_test.shape[0], -1))\n",
        "    X_dev = np.reshape(X_dev, (X_dev.shape[0], -1))\n",
        "    \n",
        "    # Normalize the data: subtract the mean image\n",
        "    mean_image = np.mean(X_train, axis = 0)\n",
        "    X_train -= mean_image\n",
        "    X_val -= mean_image\n",
        "    X_test -= mean_image\n",
        "    X_dev -= mean_image\n",
        "    \n",
        "    # add bias dimension and transform into columns\n",
        "    X_train = np.hstack([X_train, np.ones((X_train.shape[0], 1))])\n",
        "    X_val = np.hstack([X_val, np.ones((X_val.shape[0], 1))])\n",
        "    X_test = np.hstack([X_test, np.ones((X_test.shape[0], 1))])\n",
        "    X_dev = np.hstack([X_dev, np.ones((X_dev.shape[0], 1))])\n",
        "    \n",
        "    return X_train, y_train, X_val, y_val, X_test, y_test, X_dev, y_dev\n",
        "\n",
        "\n",
        "# Invoke the above function to get our data.\n",
        "X_train, y_train, X_val, y_val, X_test, y_test, X_dev, y_dev = get_CIFAR10_data()\n",
        "print('Train data shape: ', X_train.shape)\n",
        "print('Train labels shape: ', y_train.shape)\n",
        "print('Validation data shape: ', X_val.shape)\n",
        "print('Validation labels shape: ', y_val.shape)\n",
        "print('Test data shape: ', X_test.shape)\n",
        "print('Test labels shape: ', y_test.shape)\n",
        "print('dev data shape: ', X_dev.shape)\n",
        "print('dev labels shape: ', y_dev.shape)"
      ],
      "execution_count": 0,
      "outputs": [
        {
          "output_type": "stream",
          "text": [
            "Train data shape:  (49000, 3073)\n",
            "Train labels shape:  (49000,)\n",
            "Validation data shape:  (1000, 3073)\n",
            "Validation labels shape:  (1000,)\n",
            "Test data shape:  (1000, 3073)\n",
            "Test labels shape:  (1000,)\n",
            "dev data shape:  (500, 3073)\n",
            "dev labels shape:  (500,)\n"
          ],
          "name": "stdout"
        }
      ]
    },
    {
      "cell_type": "markdown",
      "metadata": {
        "id": "BQoOcRa6WtjI",
        "colab_type": "text"
      },
      "source": [
        "## Softmax Classifier\n",
        "\n",
        "Your code for this section will all be written inside **cs231n/classifiers/softmax.py**. \n"
      ]
    },
    {
      "cell_type": "code",
      "metadata": {
        "id": "aZwLRS0WXZ1Q",
        "colab_type": "code",
        "outputId": "51991d1d-0512-47de-e91e-6d46ebfeb1c9",
        "colab": {
          "base_uri": "https://localhost:8080/",
          "height": 35
        }
      },
      "source": [
        "%%writefile /content/assignment1/cs231n/classifiers/softmax.py\n",
        "from builtins import range\n",
        "import numpy as np\n",
        "import pdb\n",
        "from random import shuffle\n",
        "from past.builtins import xrange\n",
        "\n",
        "def softmax_loss_naive(W, X, y, reg):\n",
        "    \"\"\"\n",
        "    Softmax loss function, naive implementation (with loops)\n",
        "\n",
        "    Inputs have dimension D, there are C classes, and we operate on minibatches\n",
        "    of N examples.\n",
        "\n",
        "    Inputs:\n",
        "    - W: A numpy array of shape (D, C) containing weights.\n",
        "    - X: A numpy array of shape (N, D) containing a minibatch of data.\n",
        "    - y: A numpy array of shape (N,) containing training labels; y[i] = c means\n",
        "      that X[i] has label c, where 0 <= c < C.\n",
        "    - reg: (float) regularization strength\n",
        "\n",
        "    Returns a tuple of:\n",
        "    - loss as single float\n",
        "    - gradient with respect to weights W; an array of same shape as W\n",
        "    \"\"\"\n",
        "    # Initialize the loss and gradient to zero.\n",
        "    loss = 0.0\n",
        "    dW = np.zeros_like(W)\n",
        "\n",
        "    #############################################################################\n",
        "    # TODO: Compute the softmax loss and its gradient using explicit loops.     #\n",
        "    # Store the loss in loss and the gradient in dW. If you are not careful     #\n",
        "    # here, it is easy to run into numeric instability. Don't forget the        #\n",
        "    # regularization!                                                           #\n",
        "    #############################################################################\n",
        "    # *****START OF YOUR CODE (DO NOT DELETE/MODIFY THIS LINE)*****\n",
        "\n",
        "    dW = np.zeros(W.shape) # initialize the gradient as zero\n",
        "\n",
        "    # compute the loss and the gradient\n",
        "    num_classes = W.shape[1]\n",
        "    num_train = X.shape[0]\n",
        "    loss = 0.0\n",
        "    for i in range(num_train):\n",
        "        scores = np.exp(X[i].dot(W))\n",
        "        correct_class_score = scores[y[i]]\n",
        "        sum_exp = np.sum(scores)\n",
        "        loss += -np.log(correct_class_score/sum_exp)\n",
        "        \n",
        "        for j in range(num_classes):\n",
        "            dW[:,j] += (X[i] * scores[j]) / sum_exp  \n",
        "        dW[:,y[i]] -= X[i] \n",
        "          \n",
        "\n",
        "    # Right now the loss is a sum over all training examples, but we want it\n",
        "    # to be an average instead so we divide by num_train.\n",
        "    loss /= num_train\n",
        "    dW /= num_train\n",
        "\n",
        "    # Add regularization to the loss.\n",
        "    loss += reg * np.sum(W * W)\n",
        "    dW += 2 * reg * W\n",
        "\n",
        "    # *****END OF YOUR CODE (DO NOT DELETE/MODIFY THIS LINE)*****\n",
        "\n",
        "    return loss, dW\n",
        "\n",
        "\n",
        "def softmax_loss_vectorized(W, X, y, reg):\n",
        "    \"\"\"\n",
        "    Softmax loss function, vectorized version.\n",
        "\n",
        "    Inputs and outputs are the same as softmax_loss_naive.\n",
        "    \"\"\"\n",
        "    # Initialize the loss and gradient to zero.\n",
        "    loss = 0.0\n",
        "    dW = np.zeros_like(W)\n",
        "    num_train = X.shape[0]\n",
        "    \n",
        "\n",
        "    #############################################################################\n",
        "    # TODO: Compute the softmax loss and its gradient using no explicit loops.  #\n",
        "    # Store the loss in loss and the gradient in dW. If you are not careful     #\n",
        "    # here, it is easy to run into numeric instability. Don't forget the        #\n",
        "    # regularization!                                                           #\n",
        "    #############################################################################\n",
        "    # *****START OF YOUR CODE (DO NOT DELETE/MODIFY THIS LINE)*****\n",
        "    \n",
        "    \n",
        "    scores = np.dot(X,W)\n",
        "    scores_exp = np.exp(scores)\n",
        "    \n",
        "        \n",
        "    correct_class_score = scores[range(num_train), y].reshape(-1,1)\n",
        "    numerator = np.exp(correct_class_score)\n",
        "    denomerator = np.sum(scores_exp,axis =1).reshape(-1,1)\n",
        "    \n",
        "    loss = np.sum(-np.log(numerator/denomerator))\n",
        "    loss/=num_train\n",
        "    loss += reg * np.sum(W * W)\n",
        "    \n",
        "    \n",
        "    #mask = np.zeros(scores.shape)\n",
        "    #mask = scores_exp / denomerator\n",
        "    #pdb.set_trace()\n",
        "    #mask[range(num_train), y] = (-(denomerator-numerator) / denomerator).squeeze(axis =1)\n",
        "    #dW = np.dot(X.T,mask)/num_train + 2*reg*W\n",
        "    \n",
        "    dev = scores_exp/np.sum(scores_exp,axis=1).reshape(-1,1)\n",
        "    dev[range(num_train), y] -= 1\n",
        "    dW = np.dot(X.T, dev)/ num_train + 2*reg*W \n",
        "\n",
        "\n",
        "    # *****END OF YOUR CODE (DO NOT DELETE/MODIFY THIS LINE)*****\n",
        "\n",
        "    return loss, dW"
      ],
      "execution_count": 0,
      "outputs": [
        {
          "output_type": "stream",
          "text": [
            "Overwriting /content/assignment1/cs231n/classifiers/softmax.py\n"
          ],
          "name": "stdout"
        }
      ]
    },
    {
      "cell_type": "code",
      "metadata": {
        "id": "nIoLDznDWtjJ",
        "colab_type": "code",
        "outputId": "cb8030ee-c435-4999-fc4e-2c782f8b875c",
        "colab": {
          "base_uri": "https://localhost:8080/",
          "height": 54
        }
      },
      "source": [
        "# First implement the naive softmax loss function with nested loops.\n",
        "# Open the file cs231n/classifiers/softmax.py and implement the\n",
        "# softmax_loss_naive function.\n",
        "\n",
        "from cs231n.classifiers.softmax import softmax_loss_naive\n",
        "import time\n",
        "\n",
        "# Generate a random softmax weight matrix and use it to compute the loss.\n",
        "W = np.random.randn(3073, 10) * 0.0001\n",
        "loss, grad = softmax_loss_naive(W, X_dev, y_dev, 0.0)\n",
        "\n",
        "# As a rough sanity check, our loss should be something close to -log(0.1).\n",
        "print('loss: %f' % loss)\n",
        "print('sanity check: %f' % (-np.log(0.1)))"
      ],
      "execution_count": 0,
      "outputs": [
        {
          "output_type": "stream",
          "text": [
            "loss: 2.358568\n",
            "sanity check: 2.302585\n"
          ],
          "name": "stdout"
        }
      ]
    },
    {
      "cell_type": "markdown",
      "metadata": {
        "tags": [
          "pdf-inline"
        ],
        "id": "vKTxQuiCWtjL",
        "colab_type": "text"
      },
      "source": [
        "**Inline Question 1**\n",
        "\n",
        "Why do we expect our loss to be close to -log(0.1)? Explain briefly.**\n",
        "\n",
        "$\\color{blue}{\\textit Your Answer:}$ *Fill this in* \n",
        "\n"
      ]
    },
    {
      "cell_type": "code",
      "metadata": {
        "id": "44DEtqG5WtjL",
        "colab_type": "code",
        "outputId": "3592603f-05b9-4452-fd58-07180a7bc6d4",
        "colab": {
          "base_uri": "https://localhost:8080/",
          "height": 381
        }
      },
      "source": [
        "# Complete the implementation of softmax_loss_naive and implement a (naive)\n",
        "# version of the gradient that uses nested loops.\n",
        "loss, grad = softmax_loss_naive(W, X_dev, y_dev, 0.0)\n",
        "\n",
        "# As we did for the SVM, use numeric gradient checking as a debugging tool.\n",
        "# The numeric gradient should be close to the analytic gradient.\n",
        "from cs231n.gradient_check import grad_check_sparse\n",
        "f = lambda w: softmax_loss_naive(w, X_dev, y_dev, 0.0)[0]\n",
        "grad_numerical = grad_check_sparse(f, W, grad, 10)\n",
        "\n",
        "# similar to SVM case, do another gradient check with regularization\n",
        "loss, grad = softmax_loss_naive(W, X_dev, y_dev, 5e1)\n",
        "f = lambda w: softmax_loss_naive(w, X_dev, y_dev, 5e1)[0]\n",
        "grad_numerical = grad_check_sparse(f, W, grad, 10)"
      ],
      "execution_count": 0,
      "outputs": [
        {
          "output_type": "stream",
          "text": [
            "numerical: -3.738812 analytic: -3.738813, relative error: 1.509599e-08\n",
            "numerical: 0.123631 analytic: 0.123631, relative error: 2.308440e-07\n",
            "numerical: 0.180845 analytic: 0.180845, relative error: 1.729093e-07\n",
            "numerical: -0.061345 analytic: -0.061345, relative error: 4.203782e-07\n",
            "numerical: 0.862565 analytic: 0.862565, relative error: 3.539300e-08\n",
            "numerical: 1.287631 analytic: 1.287631, relative error: 3.776518e-08\n",
            "numerical: 1.262566 analytic: 1.262566, relative error: 4.048770e-08\n",
            "numerical: 1.335443 analytic: 1.335442, relative error: 4.907753e-08\n",
            "numerical: -1.173926 analytic: -1.173926, relative error: 5.535213e-08\n",
            "numerical: -0.772280 analytic: -0.772280, relative error: 8.998879e-08\n",
            "numerical: -0.976591 analytic: -0.976590, relative error: 7.397192e-09\n",
            "numerical: -0.541663 analytic: -0.541663, relative error: 2.025026e-08\n",
            "numerical: 0.307211 analytic: 0.307211, relative error: 1.610735e-07\n",
            "numerical: 2.273197 analytic: 2.273197, relative error: 3.805708e-08\n",
            "numerical: -1.301772 analytic: -1.301772, relative error: 1.988899e-08\n",
            "numerical: 1.774496 analytic: 1.774496, relative error: 3.517512e-08\n",
            "numerical: 0.614175 analytic: 0.614175, relative error: 1.204790e-07\n",
            "numerical: 0.738147 analytic: 0.738147, relative error: 6.191034e-08\n",
            "numerical: 0.878637 analytic: 0.878637, relative error: 1.903716e-08\n",
            "numerical: -0.503624 analytic: -0.503624, relative error: 1.587385e-08\n"
          ],
          "name": "stdout"
        }
      ]
    },
    {
      "cell_type": "code",
      "metadata": {
        "id": "o4kE7IWPWtjO",
        "colab_type": "code",
        "outputId": "555cbe4e-19e6-40fa-81d1-eccb6086756b",
        "colab": {
          "base_uri": "https://localhost:8080/",
          "height": 90
        }
      },
      "source": [
        "# Now that we have a naive implementation of the softmax loss function and its gradient,\n",
        "# implement a vectorized version in softmax_loss_vectorized.\n",
        "# The two versions should compute the same results, but the vectorized version should be\n",
        "# much faster.\n",
        "tic = time.time()\n",
        "loss_naive, grad_naive = softmax_loss_naive(W, X_dev, y_dev, 0.000005)\n",
        "toc = time.time()\n",
        "print('naive loss: %e computed in %fs' % (loss_naive, toc - tic))\n",
        "\n",
        "from cs231n.classifiers.softmax import softmax_loss_vectorized\n",
        "tic = time.time()\n",
        "loss_vectorized, grad_vectorized = softmax_loss_vectorized(W, X_dev, y_dev, 0.000005)\n",
        "toc = time.time()\n",
        "print('vectorized loss: %e computed in %fs' % (loss_vectorized, toc - tic))\n",
        "\n",
        "# As we did for the SVM, we use the Frobenius norm to compare the two versions\n",
        "# of the gradient.\n",
        "grad_difference = np.linalg.norm(grad_naive - grad_vectorized, ord='fro')\n",
        "print('Loss difference: %f' % np.abs(loss_naive - loss_vectorized))\n",
        "print('Gradient difference: %f' % grad_difference)"
      ],
      "execution_count": 0,
      "outputs": [
        {
          "output_type": "stream",
          "text": [
            "naive loss: 2.358568e+00 computed in 0.253458s\n",
            "vectorized loss: 2.358568e+00 computed in 0.013398s\n",
            "Loss difference: 0.000000\n",
            "Gradient difference: 0.000000\n"
          ],
          "name": "stdout"
        }
      ]
    },
    {
      "cell_type": "code",
      "metadata": {
        "tags": [
          "code"
        ],
        "id": "BNEPO96qWtjQ",
        "colab_type": "code",
        "outputId": "c36a3af4-bb33-4528-818f-3973bb8a0b0f",
        "colab": {
          "base_uri": "https://localhost:8080/",
          "height": 1000
        }
      },
      "source": [
        "# Use the validation set to tune hyperparameters (regularization strength and\n",
        "# learning rate). You should experiment with different ranges for the learning\n",
        "# rates and regularization strengths; if you are careful you should be able to\n",
        "# get a classification accuracy of over 0.35 on the validation set.\n",
        "from cs231n.classifiers import Softmax\n",
        "results = {}\n",
        "best_val = -1\n",
        "best_softmax = None\n",
        "learning_rates = [1e-7, 1e-8]\n",
        "regularization_strengths = [2.5e4, 2.7e4]\n",
        "\n",
        "################################################################################\n",
        "# TODO:                                                                        #\n",
        "# Use the validation set to set the learning rate and regularization strength. #\n",
        "# This should be identical to the validation that you did for the SVM; save    #\n",
        "# the best trained softmax classifer in best_softmax.                          #\n",
        "################################################################################\n",
        "# *****START OF YOUR CODE (DO NOT DELETE/MODIFY THIS LINE)*****\n",
        "\n",
        "for lr in learning_rates :\n",
        "  for reg in regularization_strengths : \n",
        "    softmax = Softmax()\n",
        "    loss_hist = softmax.train(X_train, y_train, learning_rate=lr, reg=reg,\n",
        "                          num_iters=1500, verbose=True)\n",
        "    y_train_pred = softmax.predict(X_train)\n",
        "    train_accuracy = np.mean(y_train == y_train_pred)\n",
        "    \n",
        "    y_val_pred = softmax.predict(X_val)\n",
        "    val_accuracy = np.mean(y_val == y_val_pred)\n",
        "    if val_accuracy > best_val:\n",
        "      best_val = val_accuracy \n",
        "      best_softmax = softmax\n",
        "    \n",
        "    results[(lr, reg)] = (train_accuracy,val_accuracy)\n",
        "\n",
        "# *****END OF YOUR CODE (DO NOT DELETE/MODIFY THIS LINE)*****\n",
        "    \n",
        "# Print out results.\n",
        "for lr, reg in sorted(results):\n",
        "    train_accuracy, val_accuracy = results[(lr, reg)]\n",
        "    print('lr %e reg %e train accuracy: %f val accuracy: %f' % (\n",
        "                lr, reg, train_accuracy, val_accuracy))\n",
        "    \n",
        "print('best validation accuracy achieved during cross-validation: %f' % best_val)"
      ],
      "execution_count": 0,
      "outputs": [
        {
          "output_type": "stream",
          "text": [
            "iteration 0 / 1500: loss 775.823780\n",
            "iteration 100 / 1500: loss 284.538184\n",
            "iteration 200 / 1500: loss 105.436638\n",
            "iteration 300 / 1500: loss 39.926366\n",
            "iteration 400 / 1500: loss 15.950347\n",
            "iteration 500 / 1500: loss 7.125295\n",
            "iteration 600 / 1500: loss 3.972959\n",
            "iteration 700 / 1500: loss 2.776502\n",
            "iteration 800 / 1500: loss 2.330538\n",
            "iteration 900 / 1500: loss 2.290526\n",
            "iteration 1000 / 1500: loss 2.129427\n",
            "iteration 1100 / 1500: loss 2.058937\n",
            "iteration 1200 / 1500: loss 2.107633\n",
            "iteration 1300 / 1500: loss 2.104278\n",
            "iteration 1400 / 1500: loss 2.111052\n",
            "iteration 0 / 1500: loss 828.260151\n",
            "iteration 100 / 1500: loss 280.729970\n",
            "iteration 200 / 1500: loss 96.102777\n",
            "iteration 300 / 1500: loss 33.865610\n",
            "iteration 400 / 1500: loss 12.841666\n",
            "iteration 500 / 1500: loss 5.725127\n",
            "iteration 600 / 1500: loss 3.342375\n",
            "iteration 700 / 1500: loss 2.510698\n",
            "iteration 800 / 1500: loss 2.270299\n",
            "iteration 900 / 1500: loss 2.111297\n",
            "iteration 1000 / 1500: loss 2.112487\n",
            "iteration 1100 / 1500: loss 2.118271\n",
            "iteration 1200 / 1500: loss 2.065151\n",
            "iteration 1300 / 1500: loss 2.112563\n",
            "iteration 1400 / 1500: loss 2.094360\n",
            "iteration 0 / 1500: loss 769.724118\n",
            "iteration 100 / 1500: loss 695.993353\n",
            "iteration 200 / 1500: loss 629.677337\n",
            "iteration 300 / 1500: loss 569.576595\n",
            "iteration 400 / 1500: loss 514.925538\n",
            "iteration 500 / 1500: loss 466.084594\n",
            "iteration 600 / 1500: loss 421.270480\n",
            "iteration 700 / 1500: loss 381.312051\n",
            "iteration 800 / 1500: loss 344.983207\n",
            "iteration 900 / 1500: loss 312.572511\n",
            "iteration 1000 / 1500: loss 282.630571\n",
            "iteration 1100 / 1500: loss 255.786857\n",
            "iteration 1200 / 1500: loss 231.535120\n",
            "iteration 1300 / 1500: loss 209.562452\n",
            "iteration 1400 / 1500: loss 189.844755\n",
            "iteration 0 / 1500: loss 830.624492\n",
            "iteration 100 / 1500: loss 745.275713\n",
            "iteration 200 / 1500: loss 668.953200\n",
            "iteration 300 / 1500: loss 600.049201\n",
            "iteration 400 / 1500: loss 538.604497\n",
            "iteration 500 / 1500: loss 483.149554\n",
            "iteration 600 / 1500: loss 433.960115\n",
            "iteration 700 / 1500: loss 389.726697\n",
            "iteration 800 / 1500: loss 350.157348\n",
            "iteration 900 / 1500: loss 314.196030\n",
            "iteration 1000 / 1500: loss 282.159821\n",
            "iteration 1100 / 1500: loss 253.151780\n",
            "iteration 1200 / 1500: loss 227.519273\n",
            "iteration 1300 / 1500: loss 204.357895\n",
            "iteration 1400 / 1500: loss 183.590924\n",
            "lr 1.000000e-08 reg 2.500000e+04 train accuracy: 0.169163 val accuracy: 0.173000\n",
            "lr 1.000000e-08 reg 2.700000e+04 train accuracy: 0.182388 val accuracy: 0.183000\n",
            "lr 1.000000e-07 reg 2.500000e+04 train accuracy: 0.331082 val accuracy: 0.342000\n",
            "lr 1.000000e-07 reg 2.700000e+04 train accuracy: 0.325245 val accuracy: 0.349000\n",
            "best validation accuracy achieved during cross-validation: 0.349000\n"
          ],
          "name": "stdout"
        }
      ]
    },
    {
      "cell_type": "code",
      "metadata": {
        "id": "2HqurfXGWtjT",
        "colab_type": "code",
        "outputId": "395c3814-ef7f-4935-b94e-2333972b6a0a",
        "colab": {
          "base_uri": "https://localhost:8080/",
          "height": 35
        }
      },
      "source": [
        "# evaluate on test set\n",
        "# Evaluate the best softmax on test set\n",
        "y_test_pred = best_softmax.predict(X_test)\n",
        "test_accuracy = np.mean(y_test == y_test_pred)\n",
        "print('softmax on raw pixels final test set accuracy: %f' % (test_accuracy, ))"
      ],
      "execution_count": 0,
      "outputs": [
        {
          "output_type": "stream",
          "text": [
            "softmax on raw pixels final test set accuracy: 0.335000\n"
          ],
          "name": "stdout"
        }
      ]
    },
    {
      "cell_type": "markdown",
      "metadata": {
        "tags": [
          "pdf-inline"
        ],
        "id": "zAa3SP6XWtjW",
        "colab_type": "text"
      },
      "source": [
        "**Inline Question 2** - *True or False*\n",
        "\n",
        "Suppose the overall training loss is defined as the sum of the per-datapoint loss over all training examples. It is possible to add a new datapoint to a training set that would leave the SVM loss unchanged, but this is not the case with the Softmax classifier loss.\n",
        "\n",
        "$\\color{blue}{\\textit Your Answer:}$\n",
        "\n",
        "\n",
        "$\\color{blue}{\\textit Your Explanation:}$\n",
        "\n"
      ]
    },
    {
      "cell_type": "code",
      "metadata": {
        "id": "CaWIuTHiWtjX",
        "colab_type": "code",
        "outputId": "15e2286d-4ba0-4dea-cc12-f3153d03e97a",
        "colab": {
          "base_uri": "https://localhost:8080/",
          "height": 397
        }
      },
      "source": [
        "# Visualize the learned weights for each class\n",
        "w = best_softmax.W[:-1,:] # strip out the bias\n",
        "w = w.reshape(32, 32, 3, 10)\n",
        "\n",
        "w_min, w_max = np.min(w), np.max(w)\n",
        "\n",
        "classes = ['plane', 'car', 'bird', 'cat', 'deer', 'dog', 'frog', 'horse', 'ship', 'truck']\n",
        "for i in range(10):\n",
        "    plt.subplot(2, 5, i + 1)\n",
        "    \n",
        "    # Rescale the weights to be between 0 and 255\n",
        "    wimg = 255.0 * (w[:, :, :, i].squeeze() - w_min) / (w_max - w_min)\n",
        "    plt.imshow(wimg.astype('uint8'))\n",
        "    plt.axis('off')\n",
        "    plt.title(classes[i])"
      ],
      "execution_count": 0,
      "outputs": [
        {
          "output_type": "display_data",
          "data": {
            "image/png": "[encoded data removed]",
            "text/plain": [
              "<Figure size 720x576 with 10 Axes>"
            ]
          },
          "metadata": {
            "tags": []
          }
        }
      ]
    },
    {
      "cell_type": "code",
      "metadata": {
        "id": "IrwQCpUahkHF",
        "colab_type": "code",
        "colab": {}
      },
      "source": [
        ""
      ],
      "execution_count": 0,
      "outputs": []
    }
  ]
}